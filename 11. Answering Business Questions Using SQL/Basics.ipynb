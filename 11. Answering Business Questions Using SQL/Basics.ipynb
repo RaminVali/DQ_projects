{
 "cells": [
  {
   "cell_type": "markdown",
   "metadata": {},
   "source": [
    "## 1. Introduction and Schema Diagram\n",
    "\n",
    "\n",
    "In this guided project, we're going to practice using our SQL skills to answer business questions.\n",
    "\n",
    "![](chinook-schema.svg)\n",
    "\n",
    "We'll continue to use the Chinook database that we've used in earlier lessons of this course. The Chinook database is provided as a SQLite database file called chinook.db. A copy of the database schema is below - you'll need to come back to this step often to consult the schema as you write your queries.\n",
    "\n",
    "It's worth remembering that our database retains 'state', so if we run a query with a CREATE or DROP twice, the query will fail. If you have trouble, or if you manage to lock your database, we have provided a chinook-unmodified.db file that you can copy over the chinook.db to restore it back to its initial state (see this blog post on how to run shell commands within a Jupyter notebook).\n",
    "\n",
    "Most of the queries you'll create in this guided project are more difficult than what you have written in the earlier lessons in this course, and we'll provide you with less explicit guidance on how to answer each business question. Don't be discouraged if working on these queries takes several iterations.\n",
    "\n",
    "We have provided a solution notebook (accessible via the icon at the top of the interface). However, we recommend only consulting this as a last resort, or when you have finished and would like to see how we went about the step. Also keep in mind that there are often several 'correct' ways to write these queries, and that our solution notebook shows just one of these.\n"
   ]
  },
  {
   "cell_type": "code",
   "execution_count": 3,
   "metadata": {
    "collapsed": false
   },
   "outputs": [],
   "source": [
    "%%capture\n",
    "%load_ext sql\n",
    "%sql sqlite:///chinook.db\n",
    "    \n"
   ]
  },
  {
   "cell_type": "markdown",
   "metadata": {},
   "source": [
    "## 2. Overview of the Data"
   ]
  },
  {
   "cell_type": "code",
   "execution_count": 4,
   "metadata": {
    "collapsed": false
   },
   "outputs": [
    {
     "name": "stdout",
     "output_type": "stream",
     "text": [
      " * sqlite:///chinook.db\n",
      "Done.\n"
     ]
    },
    {
     "data": {
      "text/html": [
       "<table>\n",
       "    <tr>\n",
       "        <th>name</th>\n",
       "        <th>type</th>\n",
       "    </tr>\n",
       "    <tr>\n",
       "        <td>album</td>\n",
       "        <td>table</td>\n",
       "    </tr>\n",
       "    <tr>\n",
       "        <td>artist</td>\n",
       "        <td>table</td>\n",
       "    </tr>\n",
       "    <tr>\n",
       "        <td>customer</td>\n",
       "        <td>table</td>\n",
       "    </tr>\n",
       "    <tr>\n",
       "        <td>employee</td>\n",
       "        <td>table</td>\n",
       "    </tr>\n",
       "    <tr>\n",
       "        <td>genre</td>\n",
       "        <td>table</td>\n",
       "    </tr>\n",
       "    <tr>\n",
       "        <td>invoice</td>\n",
       "        <td>table</td>\n",
       "    </tr>\n",
       "    <tr>\n",
       "        <td>invoice_line</td>\n",
       "        <td>table</td>\n",
       "    </tr>\n",
       "    <tr>\n",
       "        <td>media_type</td>\n",
       "        <td>table</td>\n",
       "    </tr>\n",
       "    <tr>\n",
       "        <td>playlist</td>\n",
       "        <td>table</td>\n",
       "    </tr>\n",
       "    <tr>\n",
       "        <td>playlist_track</td>\n",
       "        <td>table</td>\n",
       "    </tr>\n",
       "    <tr>\n",
       "        <td>track</td>\n",
       "        <td>table</td>\n",
       "    </tr>\n",
       "    <tr>\n",
       "        <td>invoice_extend</td>\n",
       "        <td>view</td>\n",
       "    </tr>\n",
       "    <tr>\n",
       "        <td>invoice_categry</td>\n",
       "        <td>view</td>\n",
       "    </tr>\n",
       "</table>"
      ],
      "text/plain": [
       "[('album', 'table'),\n",
       " ('artist', 'table'),\n",
       " ('customer', 'table'),\n",
       " ('employee', 'table'),\n",
       " ('genre', 'table'),\n",
       " ('invoice', 'table'),\n",
       " ('invoice_line', 'table'),\n",
       " ('media_type', 'table'),\n",
       " ('playlist', 'table'),\n",
       " ('playlist_track', 'table'),\n",
       " ('track', 'table'),\n",
       " ('invoice_extend', 'view'),\n",
       " ('invoice_categry', 'view')]"
      ]
     },
     "execution_count": 4,
     "metadata": {},
     "output_type": "execute_result"
    }
   ],
   "source": [
    "%%sql\n",
    "\n",
    "SELECT\n",
    "    name,\n",
    "    type\n",
    "FROM sqlite_master\n",
    "WHERE type IN (\"table\",\"view\");"
   ]
  },
  {
   "cell_type": "code",
   "execution_count": 5,
   "metadata": {
    "collapsed": false
   },
   "outputs": [
    {
     "name": "stdout",
     "output_type": "stream",
     "text": [
      " * sqlite:///chinook.db\n",
      "Done.\n",
      "Done.\n"
     ]
    },
    {
     "data": {
      "text/html": [
       "<table>\n",
       "    <tr>\n",
       "        <th>employee_id</th>\n",
       "        <th>last_name</th>\n",
       "        <th>first_name</th>\n",
       "        <th>title</th>\n",
       "        <th>reports_to</th>\n",
       "        <th>birthdate</th>\n",
       "        <th>hire_date</th>\n",
       "        <th>address</th>\n",
       "        <th>city</th>\n",
       "        <th>state</th>\n",
       "        <th>country</th>\n",
       "        <th>postal_code</th>\n",
       "        <th>phone</th>\n",
       "        <th>fax</th>\n",
       "        <th>email</th>\n",
       "    </tr>\n",
       "    <tr>\n",
       "        <td>1</td>\n",
       "        <td>Adams</td>\n",
       "        <td>Andrew</td>\n",
       "        <td>General Manager</td>\n",
       "        <td>None</td>\n",
       "        <td>1962-02-18 00:00:00</td>\n",
       "        <td>2016-08-14 00:00:00</td>\n",
       "        <td>11120 Jasper Ave NW</td>\n",
       "        <td>Edmonton</td>\n",
       "        <td>AB</td>\n",
       "        <td>Canada</td>\n",
       "        <td>T5K 2N1</td>\n",
       "        <td>+1 (780) 428-9482</td>\n",
       "        <td>+1 (780) 428-3457</td>\n",
       "        <td>andrew@chinookcorp.com</td>\n",
       "    </tr>\n",
       "    <tr>\n",
       "        <td>2</td>\n",
       "        <td>Edwards</td>\n",
       "        <td>Nancy</td>\n",
       "        <td>Sales Manager</td>\n",
       "        <td>1</td>\n",
       "        <td>1958-12-08 00:00:00</td>\n",
       "        <td>2016-05-01 00:00:00</td>\n",
       "        <td>825 8 Ave SW</td>\n",
       "        <td>Calgary</td>\n",
       "        <td>AB</td>\n",
       "        <td>Canada</td>\n",
       "        <td>T2P 2T3</td>\n",
       "        <td>+1 (403) 262-3443</td>\n",
       "        <td>+1 (403) 262-3322</td>\n",
       "        <td>nancy@chinookcorp.com</td>\n",
       "    </tr>\n",
       "    <tr>\n",
       "        <td>3</td>\n",
       "        <td>Peacock</td>\n",
       "        <td>Jane</td>\n",
       "        <td>Sales Support Agent</td>\n",
       "        <td>2</td>\n",
       "        <td>1973-08-29 00:00:00</td>\n",
       "        <td>2017-04-01 00:00:00</td>\n",
       "        <td>1111 6 Ave SW</td>\n",
       "        <td>Calgary</td>\n",
       "        <td>AB</td>\n",
       "        <td>Canada</td>\n",
       "        <td>T2P 5M5</td>\n",
       "        <td>+1 (403) 262-3443</td>\n",
       "        <td>+1 (403) 262-6712</td>\n",
       "        <td>jane@chinookcorp.com</td>\n",
       "    </tr>\n",
       "    <tr>\n",
       "        <td>4</td>\n",
       "        <td>Park</td>\n",
       "        <td>Margaret</td>\n",
       "        <td>Sales Support Agent</td>\n",
       "        <td>2</td>\n",
       "        <td>1947-09-19 00:00:00</td>\n",
       "        <td>2017-05-03 00:00:00</td>\n",
       "        <td>683 10 Street SW</td>\n",
       "        <td>Calgary</td>\n",
       "        <td>AB</td>\n",
       "        <td>Canada</td>\n",
       "        <td>T2P 5G3</td>\n",
       "        <td>+1 (403) 263-4423</td>\n",
       "        <td>+1 (403) 263-4289</td>\n",
       "        <td>margaret@chinookcorp.com</td>\n",
       "    </tr>\n",
       "    <tr>\n",
       "        <td>5</td>\n",
       "        <td>Johnson</td>\n",
       "        <td>Steve</td>\n",
       "        <td>Sales Support Agent</td>\n",
       "        <td>2</td>\n",
       "        <td>1965-03-03 00:00:00</td>\n",
       "        <td>2017-10-17 00:00:00</td>\n",
       "        <td>7727B 41 Ave</td>\n",
       "        <td>Calgary</td>\n",
       "        <td>AB</td>\n",
       "        <td>Canada</td>\n",
       "        <td>T3B 1Y7</td>\n",
       "        <td>1 (780) 836-9987</td>\n",
       "        <td>1 (780) 836-9543</td>\n",
       "        <td>steve@chinookcorp.com</td>\n",
       "    </tr>\n",
       "    <tr>\n",
       "        <td>6</td>\n",
       "        <td>Mitchell</td>\n",
       "        <td>Michael</td>\n",
       "        <td>IT Manager</td>\n",
       "        <td>1</td>\n",
       "        <td>1973-07-01 00:00:00</td>\n",
       "        <td>2016-10-17 00:00:00</td>\n",
       "        <td>5827 Bowness Road NW</td>\n",
       "        <td>Calgary</td>\n",
       "        <td>AB</td>\n",
       "        <td>Canada</td>\n",
       "        <td>T3B 0C5</td>\n",
       "        <td>+1 (403) 246-9887</td>\n",
       "        <td>+1 (403) 246-9899</td>\n",
       "        <td>michael@chinookcorp.com</td>\n",
       "    </tr>\n",
       "    <tr>\n",
       "        <td>7</td>\n",
       "        <td>King</td>\n",
       "        <td>Robert</td>\n",
       "        <td>IT Staff</td>\n",
       "        <td>6</td>\n",
       "        <td>1970-05-29 00:00:00</td>\n",
       "        <td>2017-01-02 00:00:00</td>\n",
       "        <td>590 Columbia Boulevard West</td>\n",
       "        <td>Lethbridge</td>\n",
       "        <td>AB</td>\n",
       "        <td>Canada</td>\n",
       "        <td>T1K 5N8</td>\n",
       "        <td>+1 (403) 456-9986</td>\n",
       "        <td>+1 (403) 456-8485</td>\n",
       "        <td>robert@chinookcorp.com</td>\n",
       "    </tr>\n",
       "    <tr>\n",
       "        <td>8</td>\n",
       "        <td>Callahan</td>\n",
       "        <td>Laura</td>\n",
       "        <td>IT Staff</td>\n",
       "        <td>6</td>\n",
       "        <td>1968-01-09 00:00:00</td>\n",
       "        <td>2017-03-04 00:00:00</td>\n",
       "        <td>923 7 ST NW</td>\n",
       "        <td>Lethbridge</td>\n",
       "        <td>AB</td>\n",
       "        <td>Canada</td>\n",
       "        <td>T1H 1Y8</td>\n",
       "        <td>+1 (403) 467-3351</td>\n",
       "        <td>+1 (403) 467-8772</td>\n",
       "        <td>laura@chinookcorp.com</td>\n",
       "    </tr>\n",
       "</table>"
      ],
      "text/plain": [
       "[(1, 'Adams', 'Andrew', 'General Manager', None, '1962-02-18 00:00:00', '2016-08-14 00:00:00', '11120 Jasper Ave NW', 'Edmonton', 'AB', 'Canada', 'T5K 2N1', '+1 (780) 428-9482', '+1 (780) 428-3457', 'andrew@chinookcorp.com'),\n",
       " (2, 'Edwards', 'Nancy', 'Sales Manager', 1, '1958-12-08 00:00:00', '2016-05-01 00:00:00', '825 8 Ave SW', 'Calgary', 'AB', 'Canada', 'T2P 2T3', '+1 (403) 262-3443', '+1 (403) 262-3322', 'nancy@chinookcorp.com'),\n",
       " (3, 'Peacock', 'Jane', 'Sales Support Agent', 2, '1973-08-29 00:00:00', '2017-04-01 00:00:00', '1111 6 Ave SW', 'Calgary', 'AB', 'Canada', 'T2P 5M5', '+1 (403) 262-3443', '+1 (403) 262-6712', 'jane@chinookcorp.com'),\n",
       " (4, 'Park', 'Margaret', 'Sales Support Agent', 2, '1947-09-19 00:00:00', '2017-05-03 00:00:00', '683 10 Street SW', 'Calgary', 'AB', 'Canada', 'T2P 5G3', '+1 (403) 263-4423', '+1 (403) 263-4289', 'margaret@chinookcorp.com'),\n",
       " (5, 'Johnson', 'Steve', 'Sales Support Agent', 2, '1965-03-03 00:00:00', '2017-10-17 00:00:00', '7727B 41 Ave', 'Calgary', 'AB', 'Canada', 'T3B 1Y7', '1 (780) 836-9987', '1 (780) 836-9543', 'steve@chinookcorp.com'),\n",
       " (6, 'Mitchell', 'Michael', 'IT Manager', 1, '1973-07-01 00:00:00', '2016-10-17 00:00:00', '5827 Bowness Road NW', 'Calgary', 'AB', 'Canada', 'T3B 0C5', '+1 (403) 246-9887', '+1 (403) 246-9899', 'michael@chinookcorp.com'),\n",
       " (7, 'King', 'Robert', 'IT Staff', 6, '1970-05-29 00:00:00', '2017-01-02 00:00:00', '590 Columbia Boulevard West', 'Lethbridge', 'AB', 'Canada', 'T1K 5N8', '+1 (403) 456-9986', '+1 (403) 456-8485', 'robert@chinookcorp.com'),\n",
       " (8, 'Callahan', 'Laura', 'IT Staff', 6, '1968-01-09 00:00:00', '2017-03-04 00:00:00', '923 7 ST NW', 'Lethbridge', 'AB', 'Canada', 'T1H 1Y8', '+1 (403) 467-3351', '+1 (403) 467-8772', 'laura@chinookcorp.com')]"
      ]
     },
     "execution_count": 5,
     "metadata": {},
     "output_type": "execute_result"
    }
   ],
   "source": [
    "%%sql\n",
    "\n",
    "SELECT * FROM media_type\n",
    "LIMIT 10;\n",
    "\n",
    "SELECT * FROM employee\n",
    "LIMIT 10;"
   ]
  },
  {
   "cell_type": "markdown",
   "metadata": {},
   "source": [
    "## 3. Selecting Albums to Purchase\n",
    "\n",
    "The Chinook record store has just signed a deal with a new record label, and you've been tasked with selecting the first three albums that will be added to the store, from a list of four. All four albums are by artists that don't have any tracks in the store right now - we have the artist names, and the genre of music they produce:\n",
    "\n",
    "The record label specializes in artists from the USA, and they have given Chinook some money to advertise the new albums in the USA, so we're interested in finding out which genres sell the best in the USA.\n",
    "\n",
    "You'll need to write a query to find out which genres sell the most tracks in the USA, write up a summary of your findings, and make a recommendation for the three artists whose albums we should purchase for the store.\n",
    "\n",
    "Write a query that returns each genre, with the number of tracks sold in the USA:\n",
    "- in absolute numbers\n",
    "- in percentages."
   ]
  },
  {
   "cell_type": "code",
   "execution_count": 6,
   "metadata": {
    "collapsed": false
   },
   "outputs": [
    {
     "name": "stdout",
     "output_type": "stream",
     "text": [
      " * sqlite:///chinook.db\n",
      "Done.\n"
     ]
    },
    {
     "data": {
      "text/html": [
       "<table>\n",
       "    <tr>\n",
       "        <th>billing_country</th>\n",
       "        <th>genre_id</th>\n",
       "        <th>genre_name</th>\n",
       "        <th>tracks_sold</th>\n",
       "    </tr>\n",
       "    <tr>\n",
       "        <td>USA</td>\n",
       "        <td>1</td>\n",
       "        <td>Rock</td>\n",
       "        <td>561</td>\n",
       "    </tr>\n",
       "    <tr>\n",
       "        <td>USA</td>\n",
       "        <td>4</td>\n",
       "        <td>Alternative &amp; Punk</td>\n",
       "        <td>130</td>\n",
       "    </tr>\n",
       "    <tr>\n",
       "        <td>USA</td>\n",
       "        <td>3</td>\n",
       "        <td>Metal</td>\n",
       "        <td>124</td>\n",
       "    </tr>\n",
       "    <tr>\n",
       "        <td>USA</td>\n",
       "        <td>14</td>\n",
       "        <td>R&amp;B/Soul</td>\n",
       "        <td>53</td>\n",
       "    </tr>\n",
       "    <tr>\n",
       "        <td>USA</td>\n",
       "        <td>6</td>\n",
       "        <td>Blues</td>\n",
       "        <td>36</td>\n",
       "    </tr>\n",
       "    <tr>\n",
       "        <td>USA</td>\n",
       "        <td>23</td>\n",
       "        <td>Alternative</td>\n",
       "        <td>35</td>\n",
       "    </tr>\n",
       "    <tr>\n",
       "        <td>USA</td>\n",
       "        <td>9</td>\n",
       "        <td>Pop</td>\n",
       "        <td>22</td>\n",
       "    </tr>\n",
       "    <tr>\n",
       "        <td>USA</td>\n",
       "        <td>7</td>\n",
       "        <td>Latin</td>\n",
       "        <td>22</td>\n",
       "    </tr>\n",
       "    <tr>\n",
       "        <td>USA</td>\n",
       "        <td>17</td>\n",
       "        <td>Hip Hop/Rap</td>\n",
       "        <td>20</td>\n",
       "    </tr>\n",
       "    <tr>\n",
       "        <td>USA</td>\n",
       "        <td>2</td>\n",
       "        <td>Jazz</td>\n",
       "        <td>14</td>\n",
       "    </tr>\n",
       "</table>"
      ],
      "text/plain": [
       "[('USA', 1, 'Rock', 561),\n",
       " ('USA', 4, 'Alternative & Punk', 130),\n",
       " ('USA', 3, 'Metal', 124),\n",
       " ('USA', 14, 'R&B/Soul', 53),\n",
       " ('USA', 6, 'Blues', 36),\n",
       " ('USA', 23, 'Alternative', 35),\n",
       " ('USA', 9, 'Pop', 22),\n",
       " ('USA', 7, 'Latin', 22),\n",
       " ('USA', 17, 'Hip Hop/Rap', 20),\n",
       " ('USA', 2, 'Jazz', 14)]"
      ]
     },
     "execution_count": 6,
     "metadata": {},
     "output_type": "execute_result"
    }
   ],
   "source": [
    "%%sql\n",
    "\n",
    "SELECT \n",
    "        i.billing_country,\n",
    "        t.genre_id,\n",
    "        g.name genre_name,\n",
    "        COUNT (g.name) tracks_sold\n",
    " \n",
    "FROM invoice_line il\n",
    "\n",
    "LEFT JOIN invoice i ON i.invoice_id = il.invoice_id\n",
    "LEFT JOIN track t ON t.track_id = il.track_id\n",
    "LEFT JOIN genre g ON g.genre_id = t.genre_id\n",
    "WHERE i.billing_country = 'USA'\n",
    "\n",
    "GROUP BY g.name\n",
    "ORDER BY COUNT(g.name) DESC\n",
    "\n",
    "LIMIT 10"
   ]
  },
  {
   "cell_type": "markdown",
   "metadata": {},
   "source": [
    "Based on the sales of tracks across different genres in the USA, we should purchase the new albums by the following artists:\n",
    "\n",
    "- Red Tone (Punk)\n",
    "- Slim Jim Bites (Blues)\n",
    "- Meteor and the Girls (Pop)\n",
    "\n",
    "It's worth keeping in mind that combined, these three genres only make up only 17% of total sales, so we should be on the lookout for artists and albums from the 'rock' genre, which accounts for 53% of sales."
   ]
  },
  {
   "cell_type": "code",
   "execution_count": 7,
   "metadata": {
    "collapsed": false
   },
   "outputs": [
    {
     "name": "stdout",
     "output_type": "stream",
     "text": [
      "Done.\n"
     ]
    },
    {
     "data": {
      "text/html": [
       "<table>\n",
       "    <tr>\n",
       "        <th>genre_name</th>\n",
       "        <th>tracks_sold</th>\n",
       "        <th>percentage</th>\n",
       "    </tr>\n",
       "    <tr>\n",
       "        <td>Rock</td>\n",
       "        <td>561</td>\n",
       "        <td>0.53</td>\n",
       "    </tr>\n",
       "    <tr>\n",
       "        <td>Alternative &amp; Punk</td>\n",
       "        <td>130</td>\n",
       "        <td>0.12</td>\n",
       "    </tr>\n",
       "    <tr>\n",
       "        <td>Metal</td>\n",
       "        <td>124</td>\n",
       "        <td>0.12</td>\n",
       "    </tr>\n",
       "    <tr>\n",
       "        <td>R&amp;B/Soul</td>\n",
       "        <td>53</td>\n",
       "        <td>0.05</td>\n",
       "    </tr>\n",
       "    <tr>\n",
       "        <td>Blues</td>\n",
       "        <td>36</td>\n",
       "        <td>0.03</td>\n",
       "    </tr>\n",
       "    <tr>\n",
       "        <td>Alternative</td>\n",
       "        <td>35</td>\n",
       "        <td>0.03</td>\n",
       "    </tr>\n",
       "    <tr>\n",
       "        <td>Latin</td>\n",
       "        <td>22</td>\n",
       "        <td>0.02</td>\n",
       "    </tr>\n",
       "    <tr>\n",
       "        <td>Pop</td>\n",
       "        <td>22</td>\n",
       "        <td>0.02</td>\n",
       "    </tr>\n",
       "    <tr>\n",
       "        <td>Hip Hop/Rap</td>\n",
       "        <td>20</td>\n",
       "        <td>0.02</td>\n",
       "    </tr>\n",
       "    <tr>\n",
       "        <td>Jazz</td>\n",
       "        <td>14</td>\n",
       "        <td>0.01</td>\n",
       "    </tr>\n",
       "</table>"
      ],
      "text/plain": [
       "[('Rock', 561, 0.53),\n",
       " ('Alternative & Punk', 130, 0.12),\n",
       " ('Metal', 124, 0.12),\n",
       " ('R&B/Soul', 53, 0.05),\n",
       " ('Blues', 36, 0.03),\n",
       " ('Alternative', 35, 0.03),\n",
       " ('Latin', 22, 0.02),\n",
       " ('Pop', 22, 0.02),\n",
       " ('Hip Hop/Rap', 20, 0.02),\n",
       " ('Jazz', 14, 0.01)]"
      ]
     },
     "execution_count": 7,
     "metadata": {},
     "output_type": "execute_result"
    }
   ],
   "source": [
    "%%sql\n",
    "\n",
    "WITH USA_sold AS\n",
    "\n",
    "(\n",
    "SELECT \n",
    "            i.invoice_id,\n",
    "            il.track_id\n",
    "    \n",
    "FROM invoice_line il\n",
    "LEFT JOIN invoice i ON i.invoice_id = il.invoice_id\n",
    "\n",
    "WHERE i.billing_country = 'USA'\n",
    ")\n",
    "\n",
    "-- The number of lines on inovice_lince joined with invoice table filtered\n",
    "--for the USA shows the total number of tracks sold in the USA\n",
    "SELECT\n",
    "    g.name genre_name,\n",
    "    COUNT (t.genre_id) tracks_sold,\n",
    "    ROUND (CAST(COUNT (t.genre_id) AS FLOAT) / (SELECT COUNT(*) FROM USA_sold),2) percentage\n",
    "    \n",
    "FROM USA_sold\n",
    "\n",
    "LEFT JOIN track t ON t.track_id = USA_sold.track_id\n",
    "LEFT JOIN genre g ON g.genre_id = t.genre_id\n",
    "GROUP BY genre_name\n",
    "ORDER BY tracks_sold DESC\n",
    "\n",
    "LIMIT 10"
   ]
  },
  {
   "cell_type": "markdown",
   "metadata": {},
   "source": [
    "We ran a query linking the invoive, invoice line, track and genre tables, with 3 joins between them, this way we managed to get the billing counter, and the most popular track genres. As can be seen, the top three are, Rock, Alt Punk and Metal in the USA. "
   ]
  },
  {
   "cell_type": "code",
   "execution_count": 8,
   "metadata": {
    "collapsed": false
   },
   "outputs": [
    {
     "name": "stdout",
     "output_type": "stream",
     "text": [
      "Done.\n"
     ]
    },
    {
     "data": {
      "text/html": [
       "<table>\n",
       "    <tr>\n",
       "        <th>COUNT(*)</th>\n",
       "    </tr>\n",
       "    <tr>\n",
       "        <td>1051</td>\n",
       "    </tr>\n",
       "</table>"
      ],
      "text/plain": [
       "[(1051,)]"
      ]
     },
     "execution_count": 8,
     "metadata": {},
     "output_type": "execute_result"
    }
   ],
   "source": [
    "%%sql\n",
    "\n",
    "\n",
    "SELECT \n",
    "            COUNT(*)\n",
    "    \n",
    "FROM invoice_line il\n",
    "LEFT JOIN invoice i ON i.invoice_id = il.invoice_id\n",
    "\n",
    "WHERE i.billing_country = 'USA'"
   ]
  },
  {
   "cell_type": "markdown",
   "metadata": {},
   "source": [
    "## 4.  Analyzing Employee Sales Performance\n",
    "\n",
    "Write a query that finds the total dollar amount of sales assigned to each sales support agent within the company. Add any extra attributes for that employee that you find are relevant to the analysis.\n",
    "\n",
    "Write a short statement describing your results, and providing a possible interpretation."
   ]
  },
  {
   "cell_type": "code",
   "execution_count": 7,
   "metadata": {
    "collapsed": false
   },
   "outputs": [
    {
     "name": "stdout",
     "output_type": "stream",
     "text": [
      " * sqlite:///chinook.db\n",
      "Done.\n"
     ]
    },
    {
     "data": {
      "text/html": [
       "<table>\n",
       "    <tr>\n",
       "        <th>Sales_agent_name</th>\n",
       "        <th>birthdate</th>\n",
       "        <th>hire_date</th>\n",
       "        <th>country</th>\n",
       "        <th>total_sales</th>\n",
       "    </tr>\n",
       "    <tr>\n",
       "        <td>Jane Peacock</td>\n",
       "        <td>1973-08-29 00:00:00</td>\n",
       "        <td>2017-04-01 00:00:00</td>\n",
       "        <td>Canada</td>\n",
       "        <td>1731.51</td>\n",
       "    </tr>\n",
       "    <tr>\n",
       "        <td>Margaret Park</td>\n",
       "        <td>1947-09-19 00:00:00</td>\n",
       "        <td>2017-05-03 00:00:00</td>\n",
       "        <td>Canada</td>\n",
       "        <td>1584.0</td>\n",
       "    </tr>\n",
       "    <tr>\n",
       "        <td>Steve Johnson</td>\n",
       "        <td>1965-03-03 00:00:00</td>\n",
       "        <td>2017-10-17 00:00:00</td>\n",
       "        <td>Canada</td>\n",
       "        <td>1393.92</td>\n",
       "    </tr>\n",
       "</table>"
      ],
      "text/plain": [
       "[('Jane Peacock', '1973-08-29 00:00:00', '2017-04-01 00:00:00', 'Canada', 1731.51),\n",
       " ('Margaret Park', '1947-09-19 00:00:00', '2017-05-03 00:00:00', 'Canada', 1584.0),\n",
       " ('Steve Johnson', '1965-03-03 00:00:00', '2017-10-17 00:00:00', 'Canada', 1393.92)]"
      ]
     },
     "execution_count": 7,
     "metadata": {},
     "output_type": "execute_result"
    }
   ],
   "source": [
    "%%sql\n",
    "\n",
    "WITH customer_total AS\n",
    "    (\n",
    "        SELECT \n",
    "            c.support_rep_id,\n",
    "            ROUND (SUM(i.total),2) total_sales\n",
    "        FROM customer c\n",
    "        LEFT JOIN invoice i ON c.customer_id = i.customer_id\n",
    "        GROUP BY 1\n",
    "        ORDER BY 2 DESC\n",
    "    )\n",
    "    \n",
    "SELECT \n",
    "    e.first_name || ' ' || e.last_name Sales_agent_name,\n",
    "    e.birthdate,\n",
    "    e.hire_date,\n",
    "\n",
    "    e.country,\n",
    "    ct.total_sales\n",
    "\n",
    "FROM customer_total ct\n",
    "LEFT JOIN employee e  ON ct.support_rep_id = e. employee_id\n",
    "\n",
    "ORDER BY 5 DESC"
   ]
  },
  {
   "cell_type": "markdown",
   "metadata": {},
   "source": [
    "## 5. Analyzing Sales by Country\n",
    "\n",
    "Write a query that collates data on purchases from different countries.\n",
    "Where a country has only one customer, collect them into an \"Other\" group.\n",
    "The results should be sorted by the total sales from highest to lowest, with the \"Other\" group at the very bottom.\n",
    "For each country, include:\n",
    "\n",
    "total number of customers\n",
    "\n",
    "total value of sales\n",
    "\n",
    "average value of sales per customer\n",
    "\n",
    "average order value"
   ]
  },
  {
   "cell_type": "code",
   "execution_count": 10,
   "metadata": {
    "collapsed": false
   },
   "outputs": [
    {
     "name": "stdout",
     "output_type": "stream",
     "text": [
      "Done.\n"
     ]
    },
    {
     "data": {
      "text/html": [
       "<table>\n",
       "    <tr>\n",
       "        <th>Country</th>\n",
       "        <th>total_customers</th>\n",
       "        <th>total_Value_sales</th>\n",
       "        <th>avg_sale_per_cust</th>\n",
       "        <th>avergae_order</th>\n",
       "    </tr>\n",
       "    <tr>\n",
       "        <td>USA</td>\n",
       "        <td>13</td>\n",
       "        <td>1040.49</td>\n",
       "        <td>80.04</td>\n",
       "        <td>7.94</td>\n",
       "    </tr>\n",
       "    <tr>\n",
       "        <td>Canada</td>\n",
       "        <td>8</td>\n",
       "        <td>535.59</td>\n",
       "        <td>66.95</td>\n",
       "        <td>7.05</td>\n",
       "    </tr>\n",
       "    <tr>\n",
       "        <td>Brazil</td>\n",
       "        <td>5</td>\n",
       "        <td>427.68</td>\n",
       "        <td>85.54</td>\n",
       "        <td>7.01</td>\n",
       "    </tr>\n",
       "    <tr>\n",
       "        <td>France</td>\n",
       "        <td>5</td>\n",
       "        <td>389.07</td>\n",
       "        <td>77.81</td>\n",
       "        <td>7.78</td>\n",
       "    </tr>\n",
       "    <tr>\n",
       "        <td>Germany</td>\n",
       "        <td>4</td>\n",
       "        <td>334.62</td>\n",
       "        <td>83.66</td>\n",
       "        <td>8.16</td>\n",
       "    </tr>\n",
       "    <tr>\n",
       "        <td>Czech Republic</td>\n",
       "        <td>2</td>\n",
       "        <td>273.24</td>\n",
       "        <td>136.62</td>\n",
       "        <td>9.11</td>\n",
       "    </tr>\n",
       "    <tr>\n",
       "        <td>United Kingdom</td>\n",
       "        <td>3</td>\n",
       "        <td>245.52</td>\n",
       "        <td>81.84</td>\n",
       "        <td>8.77</td>\n",
       "    </tr>\n",
       "    <tr>\n",
       "        <td>Portugal</td>\n",
       "        <td>2</td>\n",
       "        <td>185.13</td>\n",
       "        <td>92.56</td>\n",
       "        <td>6.38</td>\n",
       "    </tr>\n",
       "    <tr>\n",
       "        <td>India</td>\n",
       "        <td>2</td>\n",
       "        <td>183.15</td>\n",
       "        <td>91.58</td>\n",
       "        <td>8.72</td>\n",
       "    </tr>\n",
       "    <tr>\n",
       "        <td>Other</td>\n",
       "        <td>15</td>\n",
       "        <td>1094.94</td>\n",
       "        <td>73.0</td>\n",
       "        <td>7.52</td>\n",
       "    </tr>\n",
       "</table>"
      ],
      "text/plain": [
       "[('USA', 13, 1040.49, 80.04, 7.94),\n",
       " ('Canada', 8, 535.59, 66.95, 7.05),\n",
       " ('Brazil', 5, 427.68, 85.54, 7.01),\n",
       " ('France', 5, 389.07, 77.81, 7.78),\n",
       " ('Germany', 4, 334.62, 83.66, 8.16),\n",
       " ('Czech Republic', 2, 273.24, 136.62, 9.11),\n",
       " ('United Kingdom', 3, 245.52, 81.84, 8.77),\n",
       " ('Portugal', 2, 185.13, 92.56, 6.38),\n",
       " ('India', 2, 183.15, 91.58, 8.72),\n",
       " ('Other', 15, 1094.94, 73.0, 7.52)]"
      ]
     },
     "execution_count": 10,
     "metadata": {},
     "output_type": "execute_result"
    }
   ],
   "source": [
    "%%sql\n",
    "WITH country_sales_customers AS(\n",
    "    SELECT\n",
    "        COUNT(DISTINCT(c.customer_id)) customer_count,\n",
    "        ROUND (SUM(i.total),2) total_sales,\n",
    "        c.country country_temp,\n",
    "        AVG(i.total) average_order,\n",
    "    \n",
    "        CASE\n",
    "            WHEN COUNT(DISTINCT(c.customer_id)) = 1 THEN  'Other'\n",
    "            ELSE c.country\n",
    "        END AS Country   \n",
    "    FROM customer c\n",
    "\n",
    "    LEFT JOIN invoice i ON i.customer_id = c.customer_id\n",
    "    GROUP BY 3\n",
    "    ORDER BY 1 DESC\n",
    ")  \n",
    "\n",
    "SELECT \n",
    "Country,\n",
    "SUM(customer_count) total_customers,\n",
    "SUM(total_sales) total_Value_sales,\n",
    "ROUND(SUM(total_sales)/SUM(customer_count),2)  avg_sale_per_cust,\n",
    "ROUND(average_order,2) avergae_order\n",
    "\n",
    "\n",
    "FROM (\n",
    "    SELECT\n",
    "        csc.*,\n",
    "        CASE\n",
    "            WHEN csc.Country = 'Other' THEN 1\n",
    "            ElSE 0\n",
    "        END AS sort\n",
    "    FROM country_sales_customers csc\n",
    "    )\n",
    "\n",
    "GROUP BY Country\n",
    "ORDER BY sort, total_sales DESC"
   ]
  },
  {
   "cell_type": "markdown",
   "metadata": {},
   "source": [
    "Observations"
   ]
  },
  {
   "cell_type": "markdown",
   "metadata": {},
   "source": [
    "## 6. Albums vs Individual Tracks\n",
    "\n",
    "In order to answer the question, we're going to have to identify whether each invoice has all the tracks from an album. We can do this by getting the list of tracks from an invoice and comparing it to the list of tracks from an album. We can find the album to compare the purchase to by looking up the album that one of the purchased tracks belongs to. It doesn't matter which track we pick, since if it's an album purchase, that album will be the same for all tracks.\n",
    "\n",
    "\n",
    "\n",
    "Write a query that categorizes each invoice as either an album purchase or not, and calculates the following summary statistics:\n",
    "Number of invoices\n",
    "Percentage of invoices\n",
    "Write one to two sentences explaining your findings, and making a prospective recommendation on whether the Chinook store should continue to buy full albums from record companies\n"
   ]
  },
  {
   "cell_type": "code",
   "execution_count": 8,
   "metadata": {
    "collapsed": false
   },
   "outputs": [
    {
     "name": "stdout",
     "output_type": "stream",
     "text": [
      " * sqlite:///chinook.db\n",
      "(sqlite3.OperationalError) table invoice_extend already exists\n",
      "[SQL: --DROP VIEW invoice_extend;\n",
      "\n",
      "\n",
      "CREATE VIEW invoice_extend AS\n",
      "\n",
      "    SELECT \n",
      "        i.invoice_id,\n",
      "        il. track_id\n",
      "    FROM invoice i\n",
      "\n",
      "    LEFT JOIN invoice_line il on il.invoice_id = i.invoice_id]\n",
      "(Background on this error at: http://sqlalche.me/e/e3q8)\n"
     ]
    }
   ],
   "source": [
    "\n",
    "%%sql\n",
    "--DROP VIEW invoice_extend;\n",
    "\n",
    "\n",
    "CREATE VIEW invoice_extend AS\n",
    "\n",
    "    SELECT \n",
    "        i.invoice_id,\n",
    "        il. track_id\n",
    "    FROM invoice i\n",
    "\n",
    "    LEFT JOIN invoice_line il on il.invoice_id = i.invoice_id"
   ]
  },
  {
   "cell_type": "code",
   "execution_count": 10,
   "metadata": {
    "collapsed": false
   },
   "outputs": [
    {
     "name": "stdout",
     "output_type": "stream",
     "text": [
      " * sqlite:///chinook.db\n",
      "(sqlite3.OperationalError) table invoice_categry already exists\n",
      "[SQL: CREATE VIEW invoice_categry AS\n",
      "\n",
      "\n",
      "WITH invoice_first_track AS\n",
      "(\n",
      "     SELECT\n",
      "         il.invoice_id invoice_id,\n",
      "         MIN(il.track_id) first_track_id\n",
      "     FROM invoice_line il\n",
      "     GROUP BY 1\n",
      ")\n",
      "\n",
      "SELECT\n",
      "invoice_id,\n",
      "\n",
      "CASE\n",
      "    WHEN\n",
      "    (\n",
      "        (\n",
      "            SELECT t.track_id FROM track t\n",
      "            WHERE t.album_id = (\n",
      "                                SELECT t1.album_id FROM track t1\n",
      "                                WHERE t1.track_id = ifs.first_track_id\n",
      "                                )\n",
      "            \n",
      "            EXCEPT\n",
      "            \n",
      "            SELECT il1.track_id FROM invoice_line il1\n",
      "            WHERE il1.invoice_id = ifs.invoice_id\n",
      "            ) IS NULL\n",
      "\n",
      "        AND\n",
      "\n",
      "           (\n",
      "            SELECT il1.track_id FROM invoice_line il1\n",
      "            WHERE il1.invoice_id = ifs.invoice_id\n",
      "            \n",
      "            EXCEPT\n",
      "               \n",
      "            SELECT t.track_id FROM track t\n",
      "            WHERE t.album_id = (\n",
      "                                SELECT t1.album_id FROM track t1\n",
      "                                WHERE t1.track_id = ifs.first_track_id\n",
      "                                )\n",
      "            \n",
      "\n",
      "               \n",
      "            ) IS NULL\n",
      "    )\n",
      "       \n",
      "    THEN 'YES'\n",
      "    \n",
      "    ELSE 'NO'\n",
      "    \n",
      "    END\n",
      "    \n",
      "    AS full_album_purchase\n",
      "\n",
      "FROM invoice_first_track ifs\n",
      "\n",
      "ORDER BY invoice_id]\n",
      "(Background on this error at: http://sqlalche.me/e/e3q8)\n"
     ]
    }
   ],
   "source": [
    "%%sql\n",
    "\n",
    "CREATE VIEW invoice_categry AS\n",
    "\n",
    "\n",
    "WITH invoice_first_track AS\n",
    "(\n",
    "     SELECT\n",
    "         il.invoice_id invoice_id,\n",
    "         MIN(il.track_id) first_track_id\n",
    "     FROM invoice_line il\n",
    "     GROUP BY 1\n",
    ")\n",
    "\n",
    "SELECT\n",
    "invoice_id,\n",
    "\n",
    "CASE\n",
    "    WHEN\n",
    "    (\n",
    "        (\n",
    "            SELECT t.track_id FROM track t\n",
    "            WHERE t.album_id = (\n",
    "                                SELECT t1.album_id FROM track t1\n",
    "                                WHERE t1.track_id = ifs.first_track_id\n",
    "                                )\n",
    "            \n",
    "            EXCEPT\n",
    "            \n",
    "            SELECT il1.track_id FROM invoice_line il1\n",
    "            WHERE il1.invoice_id = ifs.invoice_id\n",
    "            ) IS NULL\n",
    "\n",
    "        AND\n",
    "\n",
    "           (\n",
    "            SELECT il1.track_id FROM invoice_line il1\n",
    "            WHERE il1.invoice_id = ifs.invoice_id\n",
    "            \n",
    "            EXCEPT\n",
    "               \n",
    "            SELECT t.track_id FROM track t\n",
    "            WHERE t.album_id = (\n",
    "                                SELECT t1.album_id FROM track t1\n",
    "                                WHERE t1.track_id = ifs.first_track_id\n",
    "                                )\n",
    "            \n",
    "\n",
    "               \n",
    "            ) IS NULL\n",
    "    )\n",
    "       \n",
    "    THEN 'YES'\n",
    "    \n",
    "    ELSE 'NO'\n",
    "    \n",
    "    END\n",
    "    \n",
    "    AS full_album_purchase\n",
    "\n",
    "FROM invoice_first_track ifs\n",
    "\n",
    "ORDER BY invoice_id"
   ]
  },
  {
   "cell_type": "markdown",
   "metadata": {},
   "source": [
    "I took some help for the CASE logic formt he supplied solution and an explanation from the discussion pages that I doiwnloaded. "
   ]
  },
  {
   "cell_type": "code",
   "execution_count": 14,
   "metadata": {
    "collapsed": false
   },
   "outputs": [
    {
     "name": "stdout",
     "output_type": "stream",
     "text": [
      "Done.\n"
     ]
    },
    {
     "data": {
      "text/html": [
       "<table>\n",
       "    <tr>\n",
       "        <th>full_album_purchase</th>\n",
       "        <th>number_of_invoices</th>\n",
       "        <th>percent</th>\n",
       "    </tr>\n",
       "    <tr>\n",
       "        <td>NO</td>\n",
       "        <td>500</td>\n",
       "        <td>0.8143322475570033</td>\n",
       "    </tr>\n",
       "    <tr>\n",
       "        <td>YES</td>\n",
       "        <td>114</td>\n",
       "        <td>0.18566775244299674</td>\n",
       "    </tr>\n",
       "</table>"
      ],
      "text/plain": [
       "[('NO', 500, 0.8143322475570033), ('YES', 114, 0.18566775244299674)]"
      ]
     },
     "execution_count": 14,
     "metadata": {},
     "output_type": "execute_result"
    }
   ],
   "source": [
    "%%sql\n",
    "\n",
    "SELECT \n",
    "\n",
    "ic.full_album_purchase,\n",
    "COUNT (ic.invoice_id) number_of_invoices,\n",
    "CAST(COUNT(ic.invoice_id) AS FLOAT) / (SELECT COUNT (*) FROM invoice) percent\n",
    "\n",
    "\n",
    "FROM invoice_categry ic\n",
    "\n",
    "GROUP BY ic.full_album_purchase\n"
   ]
  },
  {
   "cell_type": "code",
   "execution_count": 12,
   "metadata": {},
   "outputs": [
    {
     "name": "stdout",
     "output_type": "stream",
     "text": [
      " * sqlite:///chinook.db\n",
      "Done.\n"
     ]
    },
    {
     "data": {
      "text/html": [
       "<table>\n",
       "    <tr>\n",
       "        <th>album_purchase</th>\n",
       "        <th>number_of_invoices</th>\n",
       "        <th>percent</th>\n",
       "    </tr>\n",
       "    <tr>\n",
       "        <td>no</td>\n",
       "        <td>500</td>\n",
       "        <td>0.8143322475570033</td>\n",
       "    </tr>\n",
       "    <tr>\n",
       "        <td>yes</td>\n",
       "        <td>114</td>\n",
       "        <td>0.18566775244299674</td>\n",
       "    </tr>\n",
       "</table>"
      ],
      "text/plain": [
       "[('no', 500, 0.8143322475570033), ('yes', 114, 0.18566775244299674)]"
      ]
     },
     "execution_count": 12,
     "metadata": {},
     "output_type": "execute_result"
    }
   ],
   "source": [
    "%%sql\n",
    "\n",
    "WITH invoice_first_track AS -- Supplied solution\n",
    "    (\n",
    "     SELECT\n",
    "         il.invoice_id invoice_id,\n",
    "         MIN(il.track_id) first_track_id\n",
    "     FROM invoice_line il\n",
    "     GROUP BY 1\n",
    "    )\n",
    "\n",
    "SELECT\n",
    "    album_purchase,\n",
    "    COUNT(invoice_id) number_of_invoices,\n",
    "    CAST(count(invoice_id) AS FLOAT) / (\n",
    "                                         SELECT COUNT(*) FROM invoice\n",
    "                                      ) percent\n",
    "FROM\n",
    "    (\n",
    "    SELECT\n",
    "        ifs.*,\n",
    "        CASE\n",
    "            WHEN\n",
    "                 (\n",
    "                  SELECT t.track_id FROM track t\n",
    "                  WHERE t.album_id = (\n",
    "                                      SELECT t2.album_id FROM track t2\n",
    "                                      WHERE t2.track_id = ifs.first_track_id\n",
    "                                     ) \n",
    "\n",
    "                  EXCEPT \n",
    "\n",
    "                  SELECT il2.track_id FROM invoice_line il2\n",
    "                  WHERE il2.invoice_id = ifs.invoice_id\n",
    "                 ) IS NULL\n",
    "             AND\n",
    "                 (\n",
    "                  SELECT il2.track_id FROM invoice_line il2\n",
    "                  WHERE il2.invoice_id = ifs.invoice_id\n",
    "\n",
    "                  EXCEPT \n",
    "\n",
    "                  SELECT t.track_id FROM track t\n",
    "                  WHERE t.album_id = (\n",
    "                                      SELECT t2.album_id FROM track t2\n",
    "                                      WHERE t2.track_id = ifs.first_track_id\n",
    "                                     ) \n",
    "                 ) IS NULL\n",
    "             THEN \"yes\"\n",
    "             ELSE \"no\"\n",
    "         END AS \"album_purchase\"\n",
    "     FROM invoice_first_track ifs\n",
    "    )\n",
    "GROUP BY album_purchase;"
   ]
  },
  {
   "cell_type": "markdown",
   "metadata": {},
   "source": [
    "Step 7 of 7 Extra practice\n",
    "\n",
    "\n",
    "Which artist is used in the most playlists?\n"
   ]
  },
  {
   "cell_type": "code",
   "execution_count": 68,
   "metadata": {
    "collapsed": false
   },
   "outputs": [
    {
     "name": "stdout",
     "output_type": "stream",
     "text": [
      "Done.\n"
     ]
    },
    {
     "data": {
      "text/html": [
       "<table>\n",
       "    <tr>\n",
       "        <th>times_downloaded</th>\n",
       "        <th>track_id</th>\n",
       "        <th>track_name</th>\n",
       "        <th>album_title</th>\n",
       "        <th>artist_name</th>\n",
       "    </tr>\n",
       "    <tr>\n",
       "        <td>192</td>\n",
       "        <td>2281</td>\n",
       "        <td>My Melancholy Blues</td>\n",
       "        <td>News Of The World</td>\n",
       "        <td>Queen</td>\n",
       "    </tr>\n",
       "    <tr>\n",
       "        <td>187</td>\n",
       "        <td>1495</td>\n",
       "        <td>Highway Chile</td>\n",
       "        <td>Are You Experienced?</td>\n",
       "        <td>Jimi Hendrix</td>\n",
       "    </tr>\n",
       "    <tr>\n",
       "        <td>130</td>\n",
       "        <td>2014</td>\n",
       "        <td>Something In The Way</td>\n",
       "        <td>Nevermind</td>\n",
       "        <td>Nirvana</td>\n",
       "    </tr>\n",
       "    <tr>\n",
       "        <td>130</td>\n",
       "        <td>2405</td>\n",
       "        <td>Road Trippin&#x27;</td>\n",
       "        <td>Californication</td>\n",
       "        <td>Red Hot Chili Peppers</td>\n",
       "    </tr>\n",
       "    <tr>\n",
       "        <td>129</td>\n",
       "        <td>2215</td>\n",
       "        <td>Indifference</td>\n",
       "        <td>Vs.</td>\n",
       "        <td>Pearl Jam</td>\n",
       "    </tr>\n",
       "    <tr>\n",
       "        <td>124</td>\n",
       "        <td>22</td>\n",
       "        <td>Whole Lotta Rosie</td>\n",
       "        <td>Let There Be Rock</td>\n",
       "        <td>AC/DC</td>\n",
       "    </tr>\n",
       "    <tr>\n",
       "        <td>124</td>\n",
       "        <td>1187</td>\n",
       "        <td>My World</td>\n",
       "        <td>Use Your Illusion II</td>\n",
       "        <td>Guns N&#x27; Roses</td>\n",
       "    </tr>\n",
       "    <tr>\n",
       "        <td>121</td>\n",
       "        <td>1032</td>\n",
       "        <td>New Way Home</td>\n",
       "        <td>The Colour And The Shape</td>\n",
       "        <td>Foo Fighters</td>\n",
       "    </tr>\n",
       "    <tr>\n",
       "        <td>117</td>\n",
       "        <td>2704</td>\n",
       "        <td>Mean Disposition</td>\n",
       "        <td>Voodoo Lounge</td>\n",
       "        <td>The Rolling Stones</td>\n",
       "    </tr>\n",
       "    <tr>\n",
       "        <td>106</td>\n",
       "        <td>1900</td>\n",
       "        <td>To Live Is To Die</td>\n",
       "        <td>...And Justice For All</td>\n",
       "        <td>Metallica</td>\n",
       "    </tr>\n",
       "</table>"
      ],
      "text/plain": [
       "[(192, 2281, 'My Melancholy Blues', 'News Of The World', 'Queen'),\n",
       " (187, 1495, 'Highway Chile', 'Are You Experienced?', 'Jimi Hendrix'),\n",
       " (130, 2014, 'Something In The Way', 'Nevermind', 'Nirvana'),\n",
       " (130, 2405, \"Road Trippin'\", 'Californication', 'Red Hot Chili Peppers'),\n",
       " (129, 2215, 'Indifference', 'Vs.', 'Pearl Jam'),\n",
       " (124, 22, 'Whole Lotta Rosie', 'Let There Be Rock', 'AC/DC'),\n",
       " (124, 1187, 'My World', 'Use Your Illusion II', \"Guns N' Roses\"),\n",
       " (121, 1032, 'New Way Home', 'The Colour And The Shape', 'Foo Fighters'),\n",
       " (117, 2704, 'Mean Disposition', 'Voodoo Lounge', 'The Rolling Stones'),\n",
       " (106, 1900, 'To Live Is To Die', '...And Justice For All', 'Metallica')]"
      ]
     },
     "execution_count": 68,
     "metadata": {},
     "output_type": "execute_result"
    }
   ],
   "source": [
    "%%sql\n",
    "\n",
    "SELECT\n",
    "\n",
    "    COUNT(il.track_id) times_downloaded,\n",
    "    il.track_id,\n",
    "    t.name track_name,\n",
    "    a.title album_title,\n",
    "    ar.name artist_name\n",
    "\n",
    "\n",
    "FROM invoice_line il\n",
    "\n",
    "LEFT JOIN track t ON t.track_id = il.track_id\n",
    "LEFT JOIN album a ON a.album_id = t.album_id\n",
    "LEFT JOIN artist ar ON ar.artist_id = a.artist_id\n",
    "    \n",
    "GROUP BY 5\n",
    "ORDER BY times_downloaded DESC\n",
    "LIMIT 10;\n",
    "\n",
    " \n"
   ]
  },
  {
   "cell_type": "markdown",
   "metadata": {},
   "source": [
    "How many tracks have been purchased vs not purchased?\n"
   ]
  },
  {
   "cell_type": "code",
   "execution_count": 57,
   "metadata": {
    "collapsed": false
   },
   "outputs": [
    {
     "name": "stdout",
     "output_type": "stream",
     "text": [
      "Done.\n"
     ]
    },
    {
     "data": {
      "text/html": [
       "<table>\n",
       "    <tr>\n",
       "        <th>not_purchased</th>\n",
       "    </tr>\n",
       "    <tr>\n",
       "        <td>1697</td>\n",
       "    </tr>\n",
       "</table>"
      ],
      "text/plain": [
       "[(1697,)]"
      ]
     },
     "execution_count": 57,
     "metadata": {},
     "output_type": "execute_result"
    }
   ],
   "source": [
    "%%sql\n",
    "\n",
    "WITH tracks_purchased AS\n",
    "(\n",
    "        SELECT\n",
    "            il.track_id\n",
    "\n",
    "        FROM invoice_line il\n",
    ")\n",
    "\n",
    "\n",
    "SELECT \n",
    "COUNT(*) not_purchased\n",
    "\n",
    "FROM (\n",
    "\n",
    "    SELECT t.track_id FROM track t\n",
    "    EXCEPT\n",
    "    SELECT  tp.track_id FROM tracks_purchased tp\n",
    ")"
   ]
  },
  {
   "cell_type": "code",
   "execution_count": 62,
   "metadata": {
    "collapsed": false
   },
   "outputs": [
    {
     "name": "stdout",
     "output_type": "stream",
     "text": [
      "Done.\n"
     ]
    },
    {
     "data": {
      "text/html": [
       "<table>\n",
       "    <tr>\n",
       "        <th>number_purchased_tracks</th>\n",
       "    </tr>\n",
       "    <tr>\n",
       "        <td>1806</td>\n",
       "    </tr>\n",
       "</table>"
      ],
      "text/plain": [
       "[(1806,)]"
      ]
     },
     "execution_count": 62,
     "metadata": {},
     "output_type": "execute_result"
    }
   ],
   "source": [
    "%%sql\n",
    "\n",
    "SELECT\n",
    "            COUNT(DISTINCT(il.track_id)) number_purchased_tracks\n",
    "\n",
    "        FROM invoice_line il"
   ]
  },
  {
   "cell_type": "code",
   "execution_count": 61,
   "metadata": {
    "collapsed": false
   },
   "outputs": [
    {
     "name": "stdout",
     "output_type": "stream",
     "text": [
      "Done.\n"
     ]
    },
    {
     "data": {
      "text/html": [
       "<table>\n",
       "    <tr>\n",
       "        <th>total_tracks</th>\n",
       "    </tr>\n",
       "    <tr>\n",
       "        <td>3503</td>\n",
       "    </tr>\n",
       "</table>"
      ],
      "text/plain": [
       "[(3503,)]"
      ]
     },
     "execution_count": 61,
     "metadata": {},
     "output_type": "execute_result"
    }
   ],
   "source": [
    "%%sql\n",
    "\n",
    "SELECT\n",
    "            COUNT(track_id) total_tracks\n",
    "\n",
    "        FROM track t"
   ]
  },
  {
   "cell_type": "markdown",
   "metadata": {},
   "source": [
    "Adding the not_purchased and the number_of_purchased tracks will give the totla. So it checks out. "
   ]
  },
  {
   "cell_type": "markdown",
   "metadata": {},
   "source": [
    "Is the range of tracks in the store reflective of their sales popularity?\n",
    "\n",
    "\n",
    "We already have the highest sales tracks/albums. Lets compare that with artist popularity in playlists:\n"
   ]
  },
  {
   "cell_type": "code",
   "execution_count": 81,
   "metadata": {
    "collapsed": false
   },
   "outputs": [
    {
     "name": "stdout",
     "output_type": "stream",
     "text": [
      "Done.\n"
     ]
    },
    {
     "data": {
      "text/html": [
       "<table>\n",
       "    <tr>\n",
       "        <th>track_id</th>\n",
       "        <th>no_of_playlists</th>\n",
       "        <th>playlist_name</th>\n",
       "        <th>album_id_in_playlist</th>\n",
       "        <th>album_title</th>\n",
       "        <th>artist_name</th>\n",
       "    </tr>\n",
       "    <tr>\n",
       "        <td>597</td>\n",
       "        <td>14</td>\n",
       "        <td>On-The-Go 1</td>\n",
       "        <td>48</td>\n",
       "        <td>None</td>\n",
       "        <td>None</td>\n",
       "    </tr>\n",
       "    <tr>\n",
       "        <td>114</td>\n",
       "        <td>3</td>\n",
       "        <td>Music</td>\n",
       "        <td>12</td>\n",
       "        <td>Virtual XI</td>\n",
       "        <td>Iron Maiden</td>\n",
       "    </tr>\n",
       "    <tr>\n",
       "        <td>138</td>\n",
       "        <td>3</td>\n",
       "        <td>Music</td>\n",
       "        <td>14</td>\n",
       "        <td>The Song Remains The Same (Disc 2)</td>\n",
       "        <td>Led Zeppelin</td>\n",
       "    </tr>\n",
       "    <tr>\n",
       "        <td>66</td>\n",
       "        <td>3</td>\n",
       "        <td>Music</td>\n",
       "        <td>8</td>\n",
       "        <td>The Battle Rages On</td>\n",
       "        <td>Deep Purple</td>\n",
       "    </tr>\n",
       "    <tr>\n",
       "        <td>152</td>\n",
       "        <td>4</td>\n",
       "        <td>Heavy Metal Classic</td>\n",
       "        <td>16</td>\n",
       "        <td>Master Of Puppets</td>\n",
       "        <td>Metallica</td>\n",
       "    </tr>\n",
       "    <tr>\n",
       "        <td>236</td>\n",
       "        <td>4</td>\n",
       "        <td>Brazilian Music</td>\n",
       "        <td>23</td>\n",
       "        <td>Pop</td>\n",
       "        <td>U2</td>\n",
       "    </tr>\n",
       "    <tr>\n",
       "        <td>256</td>\n",
       "        <td>3</td>\n",
       "        <td>Music</td>\n",
       "        <td>24</td>\n",
       "        <td>Speak of the Devil</td>\n",
       "        <td>Ozzy Osbourne</td>\n",
       "    </tr>\n",
       "    <tr>\n",
       "        <td>182</td>\n",
       "        <td>3</td>\n",
       "        <td>Music</td>\n",
       "        <td>18</td>\n",
       "        <td>Vs.</td>\n",
       "        <td>Pearl Jam</td>\n",
       "    </tr>\n",
       "    <tr>\n",
       "        <td>82</td>\n",
       "        <td>3</td>\n",
       "        <td>Music</td>\n",
       "        <td>9</td>\n",
       "        <td>The Colour And The Shape</td>\n",
       "        <td>Foo Fighters</td>\n",
       "    </tr>\n",
       "    <tr>\n",
       "        <td>53</td>\n",
       "        <td>3</td>\n",
       "        <td>Music</td>\n",
       "        <td>7</td>\n",
       "        <td>Vozes do MPB</td>\n",
       "        <td>Various Artists</td>\n",
       "    </tr>\n",
       "</table>"
      ],
      "text/plain": [
       "[(597, 14, 'On-The-Go 1', 48, None, None),\n",
       " (114, 3, 'Music', 12, 'Virtual XI', 'Iron Maiden'),\n",
       " (138, 3, 'Music', 14, 'The Song Remains The Same (Disc 2)', 'Led Zeppelin'),\n",
       " (66, 3, 'Music', 8, 'The Battle Rages On', 'Deep Purple'),\n",
       " (152, 4, 'Heavy Metal Classic', 16, 'Master Of Puppets', 'Metallica'),\n",
       " (236, 4, 'Brazilian Music', 23, 'Pop', 'U2'),\n",
       " (256, 3, 'Music', 24, 'Speak of the Devil', 'Ozzy Osbourne'),\n",
       " (182, 3, 'Music', 18, 'Vs.', 'Pearl Jam'),\n",
       " (82, 3, 'Music', 9, 'The Colour And The Shape', 'Foo Fighters'),\n",
       " (53, 3, 'Music', 7, 'Vozes do MPB', 'Various Artists')]"
      ]
     },
     "execution_count": 81,
     "metadata": {},
     "output_type": "execute_result"
    }
   ],
   "source": [
    "%%sql\n",
    "\n",
    "\n",
    "SELECT\n",
    "\n",
    "    pt.track_id,\n",
    "    COUNT(DISTINCT pt.playlist_id) no_of_playlists,\n",
    "    p.name playlist_name,\n",
    "    t.album_id album_id_in_playlist,\n",
    "    a.title album_title,\n",
    "    ar.name artist_name\n",
    "    \n",
    "FROM playlist_track pt\n",
    "\n",
    "LEFT JOIN track t ON t.track_id = pt.track_id\n",
    "LEFT JOIN playlist p ON pt.playlist_id = p.playlist_id\n",
    "LEFT JOIN album a ON a.album_id = pt.track_id\n",
    "LEFT JOIN artist ar ON ar.artist_id = a.artist_id\n",
    "\n",
    "GROUP BY artist_name\n",
    "ORDER BY COUNT(pt.track_id) DESC\n",
    "LIMIT 10"
   ]
  },
  {
   "cell_type": "markdown",
   "metadata": {},
   "source": [
    "Do protected vs non-protected media types have an effect on popularity?\n",
    "\n",
    "\n",
    "--the store HAS SOLD 1806 distinct tracks, out of the 3503 total tracks available. We do the portected/popularity analysis on the 1806 tracks SOLD."
   ]
  },
  {
   "cell_type": "code",
   "execution_count": 98,
   "metadata": {
    "collapsed": false
   },
   "outputs": [
    {
     "name": "stdout",
     "output_type": "stream",
     "text": [
      "Done.\n"
     ]
    },
    {
     "data": {
      "text/html": [
       "<table>\n",
       "    <tr>\n",
       "        <th>protected</th>\n",
       "        <th>num_tracks_sold</th>\n",
       "        <th>perc_sold</th>\n",
       "    </tr>\n",
       "    <tr>\n",
       "        <td>No</td>\n",
       "        <td>1652</td>\n",
       "        <td>91.47</td>\n",
       "    </tr>\n",
       "    <tr>\n",
       "        <td>Yes</td>\n",
       "        <td>154</td>\n",
       "        <td>8.53</td>\n",
       "    </tr>\n",
       "</table>"
      ],
      "text/plain": [
       "[('No', 1652, 91.47), ('Yes', 154, 8.53)]"
      ]
     },
     "execution_count": 98,
     "metadata": {},
     "output_type": "execute_result"
    }
   ],
   "source": [
    "%%sql \n",
    "    \n",
    "WITH track_media AS \n",
    "(    \n",
    "    SELECT \n",
    "        CASE\n",
    "            WHEN m.name LIKE \"%protected%\" \n",
    "            THEN \"Yes\"\n",
    "            ELSE \"No\"\n",
    "        END protected,\n",
    "        t.track_id\n",
    "    FROM media_type m\n",
    "    INNER JOIN track t ON t.media_type_id = m.media_type_id\n",
    "    \n",
    ")\n",
    "\n",
    "SELECT\n",
    "    tm.protected,\n",
    "    COUNT(DISTINCT(il.track_id)) num_tracks_sold,\n",
    "    ROUND(CAST(COUNT(DISTINCT il.track_id) AS FLOAT)/1806*100,2) perc_sold \n",
    "FROM invoice_line il\n",
    "LEFT JOIN track_media tm ON il.track_id = tm.track_id\n",
    "GROUP BY 1;\n",
    "\n"
   ]
  }
 ],
 "metadata": {
  "kernelspec": {
   "display_name": "Python 3.8.10 64-bit (microsoft store)",
   "language": "python",
   "name": "python3"
  },
  "language_info": {
   "codemirror_mode": {
    "name": "ipython",
    "version": 3
   },
   "file_extension": ".py",
   "mimetype": "text/x-python",
   "name": "python",
   "nbconvert_exporter": "python",
   "pygments_lexer": "ipython3",
   "version": "3.8.10"
  },
  "vscode": {
   "interpreter": {
    "hash": "57e919bef337e802df542652ed7a6055dfff8d7d553927fe245f15587497a0ff"
   }
  }
 },
 "nbformat": 4,
 "nbformat_minor": 2
}
