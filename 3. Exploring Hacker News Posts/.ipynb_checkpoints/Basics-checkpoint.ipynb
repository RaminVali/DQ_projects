{
 "cells": [
  {
   "cell_type": "markdown",
   "metadata": {
    "collapsed": true
   },
   "source": [
    "## Hacker News Porject\n",
    "In this project, we'll work with a data set of submissions to popular technology site Hacker News.\n"
   ]
  },
  {
   "cell_type": "code",
   "execution_count": 9,
   "metadata": {
    "collapsed": false
   },
   "outputs": [
    {
     "name": "stdout",
     "output_type": "stream",
     "text": [
      "[['id', 'title', 'url', 'num_points', 'num_comments', 'author', 'created_at'], ['12224879', 'Interactive Dynamic Video', 'http://www.interactivedynamicvideo.com/', '386', '52', 'ne0phyte', '8/4/2016 11:52'], ['10975351', 'How to Use Open Source and Shut the Fuck Up at the Same Time', 'http://hueniverse.com/2016/01/26/how-to-use-open-source-and-shut-the-fuck-up-at-the-same-time/', '39', '10', 'josep2', '1/26/2016 19:30'], ['11964716', \"Florida DJs May Face Felony for April Fools' Water Joke\", 'http://www.thewire.com/entertainment/2013/04/florida-djs-april-fools-water-joke/63798/', '2', '1', 'vezycash', '6/23/2016 22:20'], ['11919867', 'Technology ventures: From Idea to Enterprise', 'https://www.amazon.com/Technology-Ventures-Enterprise-Thomas-Byers/dp/0073523429', '3', '1', 'hswarna', '6/17/2016 0:01'], ['10301696', 'Note by Note: The Making of Steinway L1037 (2007)', 'http://www.nytimes.com/2007/11/07/movies/07stein.html?_r=0', '8', '2', 'walterbell', '9/30/2015 4:12']]\n"
     ]
    }
   ],
   "source": [
    "from csv import reader\n",
    "opened = open (\"hacker_news.csv\")\n",
    "hn = list (reader (opened)) #reading as a list of lists\n",
    "print(hn[0:6])"
   ]
  },
  {
   "cell_type": "code",
   "execution_count": 10,
   "metadata": {
    "collapsed": false
   },
   "outputs": [
    {
     "name": "stdout",
     "output_type": "stream",
     "text": [
      "[['12224879', 'Interactive Dynamic Video', 'http://www.interactivedynamicvideo.com/', '386', '52', 'ne0phyte', '8/4/2016 11:52'], ['10975351', 'How to Use Open Source and Shut the Fuck Up at the Same Time', 'http://hueniverse.com/2016/01/26/how-to-use-open-source-and-shut-the-fuck-up-at-the-same-time/', '39', '10', 'josep2', '1/26/2016 19:30'], ['11964716', \"Florida DJs May Face Felony for April Fools' Water Joke\", 'http://www.thewire.com/entertainment/2013/04/florida-djs-april-fools-water-joke/63798/', '2', '1', 'vezycash', '6/23/2016 22:20'], ['11919867', 'Technology ventures: From Idea to Enterprise', 'https://www.amazon.com/Technology-Ventures-Enterprise-Thomas-Byers/dp/0073523429', '3', '1', 'hswarna', '6/17/2016 0:01'], ['10301696', 'Note by Note: The Making of Steinway L1037 (2007)', 'http://www.nytimes.com/2007/11/07/movies/07stein.html?_r=0', '8', '2', 'walterbell', '9/30/2015 4:12'], ['10482257', 'Title II kills investment? Comcast and other ISPs are now spending more', 'http://arstechnica.com/business/2015/10/comcast-and-other-isps-boost-network-investment-despite-net-neutrality/', '53', '22', 'Deinos', '10/31/2015 9:48']]\n"
     ]
    }
   ],
   "source": [
    "headers = hn[0]\n",
    "hn = hn[1:]\n",
    "print(hn[0:6])"
   ]
  },
  {
   "cell_type": "code",
   "execution_count": 16,
   "metadata": {
    "collapsed": false
   },
   "outputs": [
    {
     "name": "stdout",
     "output_type": "stream",
     "text": [
      "ask posts =  1744\n",
      "show posts =  1162\n",
      "other posts =  17194\n"
     ]
    }
   ],
   "source": [
    "ask_posts = []\n",
    "show_posts = []\n",
    "other_posts = []\n",
    "\n",
    "for row in hn:\n",
    "    title = row[1]\n",
    "    if title.lower().startswith(\"ask hn\"):\n",
    "        ask_posts.append(row)\n",
    "    elif title.lower().startswith(\"show hn\"):\n",
    "        show_posts.append(row)\n",
    "    else:\n",
    "        other_posts.append(row)\n",
    "\n",
    "print(\"ask posts = \",len(ask_posts))\n",
    "print(\"show posts = \",len(show_posts))\n",
    "print(\"other posts = \",len(other_posts))"
   ]
  },
  {
   "cell_type": "code",
   "execution_count": 21,
   "metadata": {
    "collapsed": false
   },
   "outputs": [
    {
     "name": "stdout",
     "output_type": "stream",
     "text": [
      "average ask comments is: 14.038417431192661\n",
      "average show comments is: 10.31669535283993\n"
     ]
    }
   ],
   "source": [
    "total_ask_comments = 0;\n",
    "\n",
    "for row in ask_posts:\n",
    "    total_ask_comments += int(row [4]) #num_comments is index 4\n",
    "\n",
    "#calculating the avg ask comments\n",
    "avg_ask_comments = total_ask_comments/len(ask_posts) \n",
    "print(\"average ask comments is:\",avg_ask_comments)\n",
    "\n",
    "\n",
    "total_show_comments = 0;\n",
    "\n",
    "for row in show_posts:\n",
    "    total_show_comments += int(row [4]) #num_comments is index 4\n",
    "\n",
    "#calculating the avg ask comments\n",
    "avg_show_comments = total_show_comments/len(show_posts) \n",
    "print(\"average show comments is:\",avg_show_comments)"
   ]
  },
  {
   "cell_type": "markdown",
   "metadata": {},
   "source": [
    "The above investigation shows that on abergae the ask posts have 4 more comments than the show posts. The average ask post gets around 14 comments, where as the average show post gets only 10. "
   ]
  },
  {
   "cell_type": "code",
   "execution_count": 78,
   "metadata": {
    "collapsed": false,
    "scrolled": true
   },
   "outputs": [
    {
     "name": "stdout",
     "output_type": "stream",
     "text": [
      "comment by hour  {'04': 337, '15': 4477, '09': 251, '06': 397, '07': 267, '12': 687, '21': 1745, '23': 543, '22': 479, '11': 641, '10': 793, '01': 683, '14': 1416, '17': 1146, '13': 1253, '08': 492, '16': 1814, '19': 1188, '02': 1381, '00': 447, '03': 421, '20': 1722, '05': 464, '18': 1439}\n",
      "\n",
      "\n",
      "counts by hour {'04': 47, '15': 116, '09': 45, '06': 44, '07': 34, '12': 73, '21': 109, '23': 68, '22': 71, '11': 58, '10': 59, '01': 60, '14': 107, '17': 100, '13': 85, '08': 48, '16': 108, '19': 110, '02': 58, '00': 55, '03': 54, '20': 80, '05': 46, '18': 109}\n"
     ]
    }
   ],
   "source": [
    "import datetime as dt\n",
    "\n",
    "result_list = []\n",
    "\n",
    "\n",
    "for row in ask_posts:\n",
    "    \n",
    "    result_list.append(row[7:3:-2]) # Slicing the larger list to get the create time and comments \n",
    "    ###but I have not made the second element to int yet.\n",
    "    ###I could go: which gives the int for the comment number\n",
    "#     temp = []\n",
    "#     temp.append(row[6])\n",
    "#     temp.append(int(row[4]))\n",
    "#     result_list.append(temp)\n",
    "        \n",
    "counts_by_hour = {}\n",
    "comments_by_hour = {}\n",
    "\n",
    "#print(result_list[0:3])\n",
    "\n",
    "date_format = (\"%m/%d/%Y %H:%M\")\n",
    "\n",
    "for row in result_list:\n",
    "\n",
    "    date_time =  dt.datetime.strptime(row[0], date_format)\n",
    "    \n",
    "    time = dt.datetime.strftime(date_time, \"%H\")\n",
    "    if time not in counts_by_hour:\n",
    "        \n",
    "        counts_by_hour[time] = 1\n",
    "        comments_by_hour[time] = int(row[1])       \n",
    "    else:\n",
    "        counts_by_hour[time] += 1\n",
    "        comments_by_hour[time] += int(row[1]) \n",
    "\n",
    "\n",
    "    \n",
    "print(\"comment by hour \",comments_by_hour)\n",
    "print('\\n')\n",
    "print(\"counts by hour\",counts_by_hour)\n",
    "\n",
    "# counts_by_hour: contains the number of ask posts created during each hour of the day.\n",
    "# comments_by_hour: contains the corresponding number of comments ask posts created at each hour received.\n"
   ]
  },
  {
   "cell_type": "code",
   "execution_count": 85,
   "metadata": {
    "collapsed": false
   },
   "outputs": [
    {
     "name": "stdout",
     "output_type": "stream",
     "text": [
      "average comments per post by the hour is: [['04', 7.170212765957447], ['15', 38.5948275862069], ['09', 5.5777777777777775], ['06', 9.022727272727273], ['07', 7.852941176470588]]\n"
     ]
    }
   ],
   "source": [
    "avg_by_hour =[]\n",
    "i = 0\n",
    "for hour in comments_by_hour:\n",
    "    avg_by_hour.append([hour,comments_by_hour[hour]/counts_by_hour[hour]])\n",
    "\n",
    "print(\"average comments per post by the hour is:\",avg_by_hour[0:5])"
   ]
  },
  {
   "cell_type": "code",
   "execution_count": 106,
   "metadata": {
    "collapsed": false
   },
   "outputs": [
    {
     "name": "stdout",
     "output_type": "stream",
     "text": [
      "Top 5 Hours for Ask Posts Comments\n",
      "15:00: 38.59 average comments per post\n",
      "02:00: 23.81 average comments per post\n",
      "20:00: 21.52 average comments per post\n",
      "16:00: 16.80 average comments per post\n",
      "21:00: 16.01 average comments per post\n"
     ]
    }
   ],
   "source": [
    "swap_avg_by_hour = []\n",
    "\n",
    "for row in avg_by_hour:  #used the \"temp\" trick leanr tform answers, but the slicing is a lot better.\n",
    "    temp = []\n",
    "    temp.append(row[1])\n",
    "    temp.append(row[0])\n",
    "    swap_avg_by_hour.append(temp)\n",
    "\n",
    "#print(swap_avg_by_hour)\n",
    "\n",
    "\n",
    "sorted_swap = sorted(swap_avg_by_hour, reverse = True)\n",
    "#print(sorted_swap)\n",
    "\n",
    "print(\"Top 5 Hours for Ask Posts Comments\")\n",
    "\n",
    "for row in sorted_swap[0:5]:\n",
    "    hour_prsd = dt.datetime.strptime(row[1],\"%H\")\n",
    "    hour_frmtd = dt.datetime.strftime(hour_prsd,\"%H:00\")\n",
    "    \n",
    "    #print(hour_frmtd)\n",
    "    \n",
    "\n",
    "    my_str = \"{}: {:.2f} average comments per post\"\n",
    "    output = my_str.format(hour_frmtd,row[0])\n",
    "    print(output)\n",
    " \n",
    "    "
   ]
  },
  {
   "cell_type": "markdown",
   "metadata": {},
   "source": [
    "Data set has US eastern time. I am in Dubai which is 8 hours AHEAD of US easternn time, so the highest post for me would be 23:00 (11pm) local dubai time. The next highest is 10 am dubai time. "
   ]
  }
 ],
 "metadata": {
  "kernelspec": {
   "display_name": "Python 3",
   "language": "python",
   "name": "python3"
  },
  "language_info": {
   "codemirror_mode": {
    "name": "ipython",
    "version": 3
   },
   "file_extension": ".py",
   "mimetype": "text/x-python",
   "name": "python",
   "nbconvert_exporter": "python",
   "pygments_lexer": "ipython3",
   "version": "3.4.3"
  }
 },
 "nbformat": 4,
 "nbformat_minor": 2
}
