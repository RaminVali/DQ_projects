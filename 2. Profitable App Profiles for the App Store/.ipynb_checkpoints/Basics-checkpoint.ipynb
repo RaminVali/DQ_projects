{
 "cells": [
  {
   "cell_type": "markdown",
   "metadata": {
    "collapsed": true
   },
   "source": [
    "## Guided Project 1 - Research into the free app market\n",
    "\n",
    "**About**: This project is about free apps print\n",
    "*Goal*: The goal here is to  analyze data to help our developers understand what type of apps are likely to attract more users."
   ]
  },
  {
   "cell_type": "code",
   "execution_count": 1,
   "metadata": {
    "collapsed": false
   },
   "outputs": [],
   "source": [
    "#Opening and reading the Apple and google app datasets\n",
    "opened_file_apple = open('AppleStore.csv', encoding = 'utf-8')\n",
    "opened_file_google = open('googleplaystore.csv', encoding = 'utf-8')\n",
    "from csv import reader\n",
    "read_file_apple = reader(opened_file_apple)\n",
    "read_file_google = reader(opened_file_google)\n",
    "\n",
    "apple_apps_data = list(read_file_apple)\n",
    "apple_data_header = apple_apps_data [0] #get header\n",
    "iphone =  apple_apps_data[1:] #get the rest without header\n",
    "\n",
    "google_apps_data = list(read_file_google)\n",
    "google_data_header = google_apps_data [0]\n",
    "android =  google_apps_data[1:]\n"
   ]
  },
  {
   "cell_type": "code",
   "execution_count": 2,
   "metadata": {
    "collapsed": false
   },
   "outputs": [],
   "source": [
    "# function definition to explore data and slice it up\n",
    "def explore_data(dataset, start, end, rows_and_columns=False):\n",
    "    dataset_slice = dataset[start:end]    \n",
    "    for row in dataset_slice:\n",
    "        print(row)\n",
    "        print('\\n') # adds a new (empty) line after each row\n",
    "\n",
    "    if rows_and_columns:\n",
    "        print('Number of rows:', len(dataset))\n",
    "        print('Number of columns:', len(dataset[0]))"
   ]
  },
  {
   "cell_type": "code",
   "execution_count": 3,
   "metadata": {
    "collapsed": false
   },
   "outputs": [
    {
     "name": "stdout",
     "output_type": "stream",
     "text": [
      "\n",
      "\n"
     ]
    }
   ],
   "source": [
    "explore_data(iphone,0,1,rows_and_columns=True)\n",
    "print('\\n')\n",
    "explore_data(android,0,1,rows_and_columns=True)"
   ]
  },
  {
   "cell_type": "markdown",
   "metadata": {},
   "source": [
    "More information about the columns in the data sets are available below:\n",
    "For apple dtaa set: https://www.kaggle.com/ramamet4/app-store-apple-data-set-10k-apps\n",
    "for google data set: https://www.kaggle.com/lava18/google-play-store-apps"
   ]
  },
  {
   "cell_type": "markdown",
   "metadata": {},
   "source": [
    "##data cleaning:\n",
    "We need to clean the data, by this we mean corect or remove the worng data\n",
    "remove duplicates and since we are focusing on english and free apps, to remove non engish and paid apps. to make the data set fit for purpose.\n",
    "\n",
    "From the discussion here:: https://www.kaggle.com/lava18/google-play-store-apps/discussion/66015 we can see that data entry for index 10472 is missing the category column and a coloumn shift has happened for that index. so we remove that."
   ]
  },
  {
   "cell_type": "code",
   "execution_count": 4,
   "metadata": {
    "collapsed": true
   },
   "outputs": [],
   "source": [
    "#removing errouneous row 10472 form the google data set\n",
    "del android[10472]"
   ]
  },
  {
   "cell_type": "markdown",
   "metadata": {},
   "source": [
    "The google data set has duplicate entries. Here are some examples of duplicate entries in this data set below: "
   ]
  },
  {
   "cell_type": "code",
   "execution_count": 5,
   "metadata": {
    "collapsed": false,
    "scrolled": true
   },
   "outputs": [
    {
     "name": "stdout",
     "output_type": "stream",
     "text": [
      "['Google My Business', 'BUSINESS', '4.4', '70991', 'Varies with device', '5,000,000+', 'Free', '0', 'Everyone', 'Business', 'July 24, 2018', '2.19.0.204537701', '4.4 and up']\n",
      "['Google My Business', 'BUSINESS', '4.4', '70991', 'Varies with device', '5,000,000+', 'Free', '0', 'Everyone', 'Business', 'July 24, 2018', '2.19.0.204537701', '4.4 and up']\n",
      "['Google My Business', 'BUSINESS', '4.4', '70991', 'Varies with device', '5,000,000+', 'Free', '0', 'Everyone', 'Business', 'July 24, 2018', '2.19.0.204537701', '4.4 and up']\n"
     ]
    }
   ],
   "source": [
    "for app in android:\n",
    "    name = app[0]\n",
    "    if name == 'Google My Business':\n",
    "        print (app)"
   ]
  },
  {
   "cell_type": "markdown",
   "metadata": {},
   "source": [
    "You can see google my business has 3 entires. Sometimes they are different because of the different number of reviews."
   ]
  },
  {
   "cell_type": "code",
   "execution_count": 6,
   "metadata": {
    "collapsed": false
   },
   "outputs": [
    {
     "name": "stdout",
     "output_type": "stream",
     "text": [
      "Number of duplicate apps android: 1181\n",
      "Number of duplicate apps iphone: 2\n"
     ]
    }
   ],
   "source": [
    "#counting the number of duplicates\n",
    "duplicate_apps = []\n",
    "unique_apps = []\n",
    "\n",
    "for app in android:\n",
    "    name = app[0]\n",
    "    if name in unique_apps:\n",
    "        duplicate_apps.append(name)\n",
    "    else:\n",
    "        unique_apps.append(name)\n",
    "print('Number of duplicate apps android:', len(duplicate_apps))\n",
    "\n",
    "#for iphone\n",
    "duplicate_apps = []\n",
    "unique_apps = []\n",
    "\n",
    "for app in iphone:\n",
    "    name = app[1]\n",
    "    if name in unique_apps:\n",
    "        duplicate_apps.append(name)\n",
    "    else:\n",
    "        unique_apps.append(name)\n",
    "print('Number of duplicate apps iphone:', len(duplicate_apps))"
   ]
  },
  {
   "cell_type": "markdown",
   "metadata": {},
   "source": [
    "We use the number of user ratings as the criterion for deleting the duplicate data and selecting the row we keep. This is because thats the only accesible criterion for both iphone and android (iphone doesn have the numbe rof downloads etc, it has user rating count for all versions."
   ]
  },
  {
   "cell_type": "code",
   "execution_count": 7,
   "metadata": {
    "collapsed": false
   },
   "outputs": [
    {
     "name": "stdout",
     "output_type": "stream",
     "text": [
      "9659\n",
      "7195\n"
     ]
    }
   ],
   "source": [
    "#creating the dictionary to remove duplicates (keeping highest number of rating)\n",
    "\n",
    "#for android\n",
    "\n",
    "reviews_max = {} \n",
    "for app in android:\n",
    "    name = app[0]\n",
    "    n_reviews = float(app[3])\n",
    "    if name in reviews_max and reviews_max[name] < n_reviews:\n",
    "        reviews_max[name] = n_reviews\n",
    "    if name not in reviews_max:\n",
    "        reviews_max [name] = n_reviews\n",
    "        \n",
    "#using dictonary to remove duplicates \n",
    "android_clean = []\n",
    "already_added = []\n",
    "\n",
    "for app in android:\n",
    "    name = app[0]\n",
    "    n_reviews = float(app[3])\n",
    "    if n_reviews == reviews_max[name] and name not in already_added:\n",
    "        android_clean.append (app)\n",
    "        already_added.append(name)\n",
    "    \n",
    "print(len(android_clean))\n",
    "\n",
    "###____________________________________\n",
    "#for iphone\n",
    "\n",
    "reviews_max = {} \n",
    "for app in iphone:\n",
    "    name = app[1] #track name is index 1 in the apple data base\n",
    "    n_reviews = float(app[5])\n",
    "    if name in reviews_max and reviews_max[name] < n_reviews:\n",
    "        reviews_max[name] = n_reviews\n",
    "    if name not in reviews_max:\n",
    "        reviews_max [name] = n_reviews\n",
    "        \n",
    "#using dictonary to remove duplicates \n",
    "iphone_clean = []\n",
    "already_added = []\n",
    "\n",
    "for app in iphone:\n",
    "    name = app[1]\n",
    "    n_reviews = float(app[5])\n",
    "    if n_reviews == reviews_max[name] and name not in already_added:\n",
    "        iphone_clean.append (app)\n",
    "        already_added.append(name)\n",
    "    \n",
    "print(len(iphone_clean))"
   ]
  },
  {
   "cell_type": "code",
   "execution_count": 15,
   "metadata": {
    "collapsed": false
   },
   "outputs": [
    {
     "name": "stdout",
     "output_type": "stream",
     "text": [
      "\n",
      "\n"
     ]
    }
   ],
   "source": [
    "#function to find English app names, returns false if more than 3 non-english characters\n",
    "def isenglish (input_string): \n",
    "    counter = 0\n",
    "    for character in input_string:\n",
    "        if ord(character) > 127:\n",
    "            counter += 1\n",
    "            \n",
    "        if counter > 3:\n",
    "            return False\n",
    "        else:\n",
    "            return True\n",
    "\n",
    "#for the Android data set English test\n",
    "android_English = []\n",
    "\n",
    "for app in android_clean:\n",
    "    name = app[0]\n",
    "    if isenglish:\n",
    "        android_English.append(app)\n",
    "\n",
    "        \n",
    "#for the iphone apps taking only English app names        \n",
    "iphone_English =[]      \n",
    "for app in iphone_clean:\n",
    "    name = app[1]\n",
    "    if isenglish:\n",
    "        iphone_English.append(app)\n",
    "        \n",
    "#exploring data:\n",
    "explore_data(android_English, 0, 2, True)\n",
    "print('\\n')\n",
    "explore_data(iphone_English, 0, 2, True)\n",
    "    "
   ]
  },
  {
   "cell_type": "code",
   "execution_count": 9,
   "metadata": {
    "collapsed": false
   },
   "outputs": [
    {
     "name": "stdout",
     "output_type": "stream",
     "text": [
      "8904\n",
      "4054\n"
     ]
    }
   ],
   "source": [
    "#isolating the free apps in each data set\n",
    "android_free = [] #for android\n",
    "#for android:\n",
    "for app in android_English:\n",
    "    app_type =  app[6]\n",
    "    if app_type =='Free':\n",
    "        android_free.append(app)\n",
    "print(len(android_free))        \n",
    "        \n",
    "#for android:\n",
    "iphone_free = []\n",
    "for app in iphone_English:\n",
    "    cost = float (app[4])\n",
    "    if cost ==0:\n",
    "        iphone_free.append(app)\n",
    "print(len(iphone_free))  "
   ]
  },
  {
   "cell_type": "markdown",
   "metadata": {},
   "source": [
    "Our aim is to determine the kinds of apps that are likely to attract more users because our revenue is highly influenced by the number of people using our apps.\n",
    "\n",
    "To minimize risks and overhead, our validation strategy for an app idea is comprised of three steps:\n",
    "\n",
    "1)Build a minimal Android version of the app, and add it to Google Play.\n",
    "2)If the app has a good response from users, we develop it further.\n",
    "3)If the app is profitable after six months, we build an iOS version of the app and add it to the App Store.\n",
    "\n",
    "Because our end goal is to add the app on both Google Play and the App Store, we need to find app profiles that are successful on both markets. For instance, a profile that works well for both markets might be a productivity app that makes use of gamification."
   ]
  },
  {
   "cell_type": "code",
   "execution_count": 10,
   "metadata": {
    "collapsed": false
   },
   "outputs": [],
   "source": [
    "# building the frequency table function, index is the column number, returns ft{}\n",
    "def freq_table(dataset, index):\n",
    "    ft = {} #empty frequency table\n",
    "    for element in dataset: #Discarded the header for both datasets already\n",
    "        if element[index] in ft:\n",
    "            ft[element[index]] += 1\n",
    "        else:\n",
    "            ft[element[index]] = 1\n",
    "    return ft\n",
    "\n",
    "#using out function in the display and sorter function from the course\n",
    "def display_table(dataset, index):\n",
    "    table = freq_table(dataset, index)\n",
    "    table_display = []\n",
    "    for key in table:\n",
    "        key_val_as_tuple = (table[key], key)\n",
    "        table_display.append(key_val_as_tuple)\n",
    "\n",
    "    table_sorted = sorted(table_display, reverse = True)\n",
    "    for entry in table_sorted:\n",
    "        print(entry[1], ':', entry[0])\n",
    "        \n",
    "        \n",
    "# #trying the function for frequency table of the columns prime_genre, Genres, and Category\n",
    "\n",
    "# display_table(iphone_free, 11) #iphone data set is iphone_free and the prime genre column index is 10\n",
    "# print('\\n')\n",
    "# display_table(android_free, 1) #category is index 1\n",
    "\n",
    "# display_table(android_free, 9) #Genres is index \n"
   ]
  },
  {
   "cell_type": "code",
   "execution_count": 11,
   "metadata": {
    "collapsed": false
   },
   "outputs": [
    {
     "name": "stdout",
     "output_type": "stream",
     "text": [
      "Games 18941.39733924612\n",
      "Photo & Video 27249.892215568863\n",
      "Utilities 14010.100917431193\n",
      "Productivity 19053.887096774193\n",
      "Book 8498.333333333334\n",
      "Education 6266.333333333333\n",
      "Social Networking 53078.195804195806\n",
      "Medical 459.75\n",
      "Navigation 25972.05\n",
      "Health & Fitness 19952.315789473683\n",
      "Catalogs 1779.5555555555557\n",
      "Sports 20128.974683544304\n",
      "News 15892.724137931034\n",
      "Entertainment 10822.961077844311\n",
      "Shopping 18746.677685950413\n",
      "Weather 47220.93548387097\n",
      "Lifestyle 8978.308510638299\n",
      "Business 6367.8\n",
      "Food & Drink 20179.093023255813\n",
      "Music 56482.02985074627\n",
      "Finance 13522.261904761905\n",
      "Reference 67447.9\n",
      "Travel 20216.01785714286\n"
     ]
    }
   ],
   "source": [
    "#generating Frequency table for prime_genre\n",
    "prime_genre_freq = freq_table (iphone_free,11) #prime genre\n",
    "\n",
    "#print(prime_genre_freq)\n",
    "\n",
    "for genre in prime_genre_freq:\n",
    "    total = 0\n",
    "    len_genre = 0\n",
    "    for row in iphone_free:\n",
    "        genre_app = row[11]\n",
    "        if genre_app == genre:\n",
    "            total += float(row[5]) #row 5 is the number of user ratings\n",
    "            len_genre +=1\n",
    "    average_ratings = total/len_genre\n",
    "    print (genre,average_ratings)\n",
    "        "
   ]
  },
  {
   "cell_type": "markdown",
   "metadata": {
    "collapsed": false
   },
   "source": [
    "## Installs Columns for android"
   ]
  },
  {
   "cell_type": "code",
   "execution_count": 12,
   "metadata": {
    "collapsed": false
   },
   "outputs": [
    {
     "name": "stdout",
     "output_type": "stream",
     "text": [
      "FOOD_AND_DRINK 1924897.7363636363\n",
      "TRAVEL_AND_LOCAL 13984077.710144928\n",
      "FAMILY 3671043.037892244\n",
      "SHOPPING 7001693.425\n",
      "PHOTOGRAPHY 17772018.759541985\n",
      "LIFESTYLE 1436126.94\n",
      "ENTERTAINMENT 11640705.88235294\n",
      "LIBRARIES_AND_DEMO 638503.734939759\n",
      "FINANCE 1387692.475609756\n",
      "SPORTS 3638640.1428571427\n",
      "TOOLS 10787009.952063914\n",
      "MEDICAL 120550.61980830671\n",
      "GAME 15551995.891203703\n",
      "COMICS 803234.8214285715\n",
      "WEATHER 5074486.197183099\n",
      "PERSONALIZATION 5183850.806779661\n",
      "AUTO_AND_VEHICLES 647317.8170731707\n",
      "VIDEO_PLAYERS 24573948.25\n",
      "COMMUNICATION 38322625.697916664\n",
      "DATING 854028.8303030303\n",
      "BOOKS_AND_REFERENCE 8587351.855670104\n",
      "BEAUTY 513151.88679245283\n",
      "SOCIAL 23253652.127118643\n",
      "HEALTH_AND_FITNESS 4188821.9853479853\n",
      "MAPS_AND_NAVIGATION 3993339.603174603\n",
      "EVENTS 253542.22222222222\n",
      "EDUCATION 1825480.7692307692\n",
      "PRODUCTIVITY 16738957.554913295\n",
      "NEWS_AND_MAGAZINES 9401635.952380951\n",
      "ART_AND_DESIGN 1952105.1724137932\n",
      "HOUSE_AND_HOME 1331540.5616438356\n",
      "BUSINESS 1708215.906862745\n",
      "PARENTING 542603.6206896552\n"
     ]
    }
   ],
   "source": [
    "#generating the frequency table category on google play\n",
    "\n",
    "#generating Frequency table for prime_genre\n",
    "category_freq = freq_table (android_free,1) #category is index1\n",
    "\n",
    "#print(category_freq)\n",
    "\n",
    "for category in category_freq:\n",
    "    total = 0\n",
    "    len_category = 0\n",
    "    for row in android_free:\n",
    "        category_app = row[1]\n",
    "        if category_app == category:\n",
    "            n_installs = row[5].replace('+','') #row 5 is the number of installs, whichwe save as float\n",
    "            n_installs = n_installs.replace(',','')\n",
    "            total += float(n_installs) \n",
    "            len_category +=1\n",
    "    average_installs = total/len_category\n",
    "    print (category,average_installs)\n",
    "        "
   ]
  }
 ],
 "metadata": {
  "kernelspec": {
   "display_name": "Python 3",
   "language": "python",
   "name": "python3"
  },
  "language_info": {
   "codemirror_mode": {
    "name": "ipython",
    "version": 3
   },
   "file_extension": ".py",
   "mimetype": "text/x-python",
   "name": "python",
   "nbconvert_exporter": "python",
   "pygments_lexer": "ipython3",
   "version": "3.4.3"
  }
 },
 "nbformat": 4,
 "nbformat_minor": 2
}
